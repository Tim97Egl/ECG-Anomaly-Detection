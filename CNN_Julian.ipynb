{
 "cells": [
  {
   "cell_type": "markdown",
   "id": "26dfa08c",
   "metadata": {},
   "source": [
    "# Libraries"
   ]
  },
  {
   "cell_type": "code",
   "execution_count": null,
   "id": "bc002ed7",
   "metadata": {},
   "outputs": [],
   "source": [
    "from wettbewerb import load_references, save_predictions\n",
    "from sklearn import preprocessing"
   ]
  },
  {
   "cell_type": "markdown",
   "id": "191dbd17",
   "metadata": {},
   "source": [
    "# Data import"
   ]
  },
  {
   "cell_type": "code",
   "execution_count": null,
   "id": "6e211183",
   "metadata": {},
   "outputs": [],
   "source": [
    "ecg_leads, ecg_labels, fs, ecg_names = load_references(folder='training')\n",
    "idx_N = [i for i in range(len(ecg_labels)) if ecg_labels[i] == 'N']\n",
    "idx_A = [i for i in range(len(ecg_labels)) if ecg_labels[i] == 'A']\n",
    "idx_tilde = [i for i in range(len(ecg_labels)) if ecg_labels[i] == '~']\n",
    "idx_O = [i for i in range(len(ecg_labels)) if ecg_labels[i] == 'O']"
   ]
  },
  {
   "cell_type": "markdown",
   "id": "15646a95",
   "metadata": {},
   "source": [
    "### Label encoding (0: A, 1: N, 2: O, 3: ~)"
   ]
  },
  {
   "cell_type": "code",
   "execution_count": null,
   "id": "07212e79",
   "metadata": {},
   "outputs": [],
   "source": [
    "le = preprocessing.LabelEncoder()\n",
    "le.fit(ecg_labels)\n",
    "ecg_labels_enc = le.transform(ecg_labels)"
   ]
  },
  {
   "cell_type": "code",
   "execution_count": null,
   "id": "a21210b8",
   "metadata": {},
   "outputs": [],
   "source": [
    "d = []\n",
    "for p, ecg_lead in enumerate(ecg_leads):\n",
    "    d.append(\n",
    "        {\n",
    "            'ecg_data': ecg_names[p],\n",
    "            'label': ecg_labels_enc[p]\n",
    "        }\n",
    "    )\n",
    "features_names = pd.DataFrame(d)"
   ]
  },
  {
   "cell_type": "markdown",
   "id": "4e5d7172",
   "metadata": {},
   "source": [
    "# Preprocessing"
   ]
  },
  {
   "cell_type": "markdown",
   "id": "78f0884f",
   "metadata": {},
   "source": [
    "### Noise removal (fan_multiscaled_2018)"
   ]
  },
  {
   "cell_type": "code",
   "execution_count": null,
   "id": "8e3f82af",
   "metadata": {
    "scrolled": true
   },
   "outputs": [],
   "source": [
    "filtered = []\n",
    "for j, ecg_lead in enumerate(ecg_leads):\n",
    "    data_ftt, freq = ecg_furier(ecg_leads[j], fs)\n",
    "    lowpassed = ecg_denoise_spectrum(data_ftt, freq, 0, 60)\n",
    "    print(j)\n",
    "    filtered.append(ecg_invfurier(lowpassed))"
   ]
  },
  {
   "cell_type": "markdown",
   "id": "75a3fc99",
   "metadata": {},
   "source": [
    "# Weitere Aufgaben\n",
    "\n",
    "## 1. Z-Normalisierung (µ = 0, std = 1)\n",
    "\n",
    "## 2. Downsampling\n",
    "- [ ] Downsample from 300 Hz to 120 Hz\n",
    "- [ ] Aber vorsicht: Datenverlust!!\n",
    "\n",
    "## 3. Length-Normalization\n",
    "- [ ] hsieh_detection_2020\n",
    "\n",
    "## 4. Oversample\n",
    "- [ ] nur auf Trainingsdaten\n",
    "- [ ] Random\n",
    "- [ ] Mit Paket imbalanced_learn\n",
    "\n",
    "## 5. Weitere Trainingsdaten durchgehen"
   ]
  },
  {
   "cell_type": "code",
   "execution_count": null,
   "id": "9ce44b71",
   "metadata": {},
   "outputs": [],
   "source": []
  }
 ],
 "metadata": {
  "kernelspec": {
   "display_name": "Python 3",
   "language": "python",
   "name": "python3"
  },
  "language_info": {
   "codemirror_mode": {
    "name": "ipython",
    "version": 3
   },
   "file_extension": ".py",
   "mimetype": "text/x-python",
   "name": "python",
   "nbconvert_exporter": "python",
   "pygments_lexer": "ipython3",
   "version": "3.10.4"
  }
 },
 "nbformat": 4,
 "nbformat_minor": 5
}
