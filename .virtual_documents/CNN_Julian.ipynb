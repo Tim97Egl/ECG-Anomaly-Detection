from wettbewerb import load_references, save_predictions
from preprocess import *
from sklearn import preprocessing
import numpy as np


ecg_leads, ecg_labels, fs, ecg_names = load_references(folder='training')
idx_N = [i for i in range(len(ecg_labels)) if ecg_labels[i] == 'N']
idx_A = [i for i in range(len(ecg_labels)) if ecg_labels[i] == 'A']
idx_tilde = [i for i in range(len(ecg_labels)) if ecg_labels[i] == '~']
idx_O = [i for i in range(len(ecg_labels)) if ecg_labels[i] == 'O']


le = preprocessing.LabelEncoder()
le.fit(ecg_labels)
ecg_labels_enc = le.transform(ecg_labels)


d = []
for p, ecg_lead in enumerate(ecg_leads):
    d.append(
        {
            'ecg_data': ecg_names[p],
            'label': ecg_labels_enc[p]
        }
    )
features_names = pd.DataFrame(d)


ecg_leads_edited = ecg_leads


filtered = []
for j, ecg_leads_edited in enumerate(ecg_leads_edited):
    data_ftt, freq = ecg_furier(ecg_leads_edited[j], fs)
    lowpassed = ecg_denoise_spectrum(data_ftt, freq, 0, 60)
    print(j)
    filtered.append(ecg_invfurier(lowpassed))

ecg_leads_edited = filtered


filtered = []
for j, ecg_leads_edited in enumerate(ecg_leads_edited):
    filtered.append(ecg_norm(ecg_leads_edited[j]))
    print(j)

ecg_leads_edited = filtered


a = ecg_leads[0]
# duration = 20
# split = duration*fs
split = 50

short = np.arange(0,20,1)
longer = np.arange(0,70,1)

b = len(a)


def ecg_split(data, limit):
    splitted = []
    ratio = len(data)/limit
    # If data is longer than limit, split with at least 50% overlap
    if ratio > 1:
        for i in range(0:np.floor(ratio)):
            lower = data[i*limit:i*limit+limit]
            if i < np.floor(ratio):
                upper = data[i*limit/2:i*limit/2+limit]
            else:
                upper = data[len(data)-limit:len(data)]
            splitted.append(lower)
            splitted.append(upper)
        label_multiplier = np.floor(ratio)*2
    # If data is shorter than limit, add from the beginning
    elif ratio < 1:
        if ratio <= 0.5:
            data = np.tile(data,int(np.floor(1/ratio)))
        diff = limit - len(data)
        appended_data = data[0:diff]
        splitted.append(data)
        splitted.append(appended_data)
        label_multiplier = 1
    # If it is the exact length, then don't alter it
    elif ratio == 1:
        splitted.append(data)
        label_multiplier = 1
    return splitted, label_multiplier






